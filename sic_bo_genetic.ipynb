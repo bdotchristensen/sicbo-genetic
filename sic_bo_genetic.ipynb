{
  "nbformat": 4,
  "nbformat_minor": 0,
  "metadata": {
    "colab": {
      "provenance": []
    },
    "kernelspec": {
      "name": "python3",
      "display_name": "Python 3"
    },
    "language_info": {
      "name": "python"
    }
  },
  "cells": [
    {
      "cell_type": "code",
      "execution_count": 2,
      "metadata": {
        "id": "2eAys2q1vNv4"
      },
      "outputs": [],
      "source": [
        "import numpy as np\n",
        "import matplotlib.pyplot as plt"
      ]
    },
    {
      "cell_type": "code",
      "source": [
        "a, b, c = np.meshgrid(np.arange(1, 7), np.arange(1, 7), np.arange(1, 7))\n",
        "\n",
        "sample_space = np.array([a.ravel(), b.ravel(), c.ravel()]).T"
      ],
      "metadata": {
        "id": "_pLVDLfkvRFM"
      },
      "execution_count": 3,
      "outputs": []
    },
    {
      "cell_type": "code",
      "source": [
        "def one(n):\n",
        "  payout = -1 * np.ones(216)\n",
        "\n",
        "  payout[(sample_space == n).sum(axis = 1) == 1] += (1 + 1)\n",
        "  payout[(sample_space == n).sum(axis = 1) == 2] += (1 + 2)\n",
        "  payout[(sample_space == n).sum(axis = 1) == 3] += (1 + 12)\n",
        "\n",
        "  return payout\n",
        "\n",
        "def double(n):\n",
        "  payout = -1 * np.ones(216)\n",
        "  payout[np.sum(sample_space == n, axis = 1) >= 2] += (1 + 12)\n",
        "\n",
        "  return payout\n",
        "\n",
        "def triple(n):\n",
        "  payout = -1 * np.ones(216)\n",
        "  payout[np.all(sample_space == n, axis = 1)] += (1 + 190)\n",
        "\n",
        "  return payout\n",
        "\n",
        "def all_triples():\n",
        "  payout = -1 * np.ones(216)\n",
        "  payout[np.all(sample_space == sample_space[:,0].reshape(-1, 1), axis = 1)] += (1 + 31)\n",
        "\n",
        "  return payout\n",
        "\n",
        "def big():\n",
        "  payout = -1 * np.ones(216)\n",
        "  payout[(sample_space.sum(axis = 1) >= 11) & (sample_space.sum(axis = 1) != 18)] += (1 + 1)\n",
        "\n",
        "  return payout\n",
        "\n",
        "def small():\n",
        "  payout = -1 * np.ones(216)\n",
        "  payout[(sample_space.sum(axis = 1) <= 10) & (sample_space.sum(axis = 1) != 3)] += (1 + 1)\n",
        "\n",
        "  return payout\n",
        "\n",
        "def two(n, m):\n",
        "  payout = -1 * np.ones(216)\n",
        "  payout[np.any(sample_space == n, axis = 1) & np.any(sample_space == m, axis = 1)] += (1 + 6)\n",
        "\n",
        "  return payout\n",
        "\n",
        "def sicbo_sum(s):\n",
        "  sums = [62, 31, 18, 12, 8, 7, 6] # 4 and 17, 5 and 16, ...\n",
        "\n",
        "  payout = -1 * np.ones(216)\n",
        "\n",
        "  if s <= 10:\n",
        "    payout[sample_space.sum(axis = 1) == s] += (1 + sums[s - 4])\n",
        "\n",
        "  else:\n",
        "    payout[sample_space.sum(axis = 1) == s] += (1 + sums[17 - s])\n",
        "\n",
        "  return payout\n",
        "\n",
        "\n"
      ],
      "metadata": {
        "id": "toVCTVB-vtMd"
      },
      "execution_count": 4,
      "outputs": []
    },
    {
      "cell_type": "markdown",
      "source": [
        "## genetic algorithm\n",
        "note there are 50 possible buttons to press (all triples takes up 2 spaces on the board)"
      ],
      "metadata": {
        "id": "ZY861ik7ERn4"
      }
    },
    {
      "cell_type": "code",
      "source": [
        "def schedule(x):\n",
        "  return 0.3 * (1 + np.exp(0.05 * (x - 50)))**(-1)"
      ],
      "metadata": {
        "id": "Zv1uA-DgQEy3"
      },
      "execution_count": 80,
      "outputs": []
    },
    {
      "cell_type": "code",
      "source": [
        "possibilities = [one(n) for n in range(1, 7)]\n",
        "possibilities += [double(n) for n in range(1, 7)]\n",
        "possibilities += [triple(n) for n in range(1, 7)]\n",
        "possibilities += [all_triples(), big(), small()]\n",
        "possibilities += [two(n, m) for n in range(1, 7) for m in range(n + 1, 7)]\n",
        "possibilities += [sicbo_sum(i) for i in range(4, 18)]\n",
        "\n",
        "possibilities = np.stack(possibilities)\n",
        "possibilities.shape"
      ],
      "metadata": {
        "colab": {
          "base_uri": "https://localhost:8080/"
        },
        "id": "IRp-EtUjEQlM",
        "outputId": "63310595-1969-4702-e622-52e5f80ad528"
      },
      "execution_count": 81,
      "outputs": [
        {
          "output_type": "execute_result",
          "data": {
            "text/plain": [
              "(50, 216)"
            ]
          },
          "metadata": {},
          "execution_count": 81
        }
      ]
    },
    {
      "cell_type": "code",
      "source": [
        "N = 400\n",
        "B = 10\n",
        "\n",
        "proposals = np.random.binomial(1, 0.4, size = (N, 50))\n",
        "proposals = (proposals == 1)\n",
        "\n",
        "\n",
        "for x in range(120):\n",
        "\n",
        "  positives = []\n",
        "\n",
        "  for i in range(N):\n",
        "\n",
        "    payouts_i = possibilities[proposals[i]].sum(axis = 0)\n",
        "    positives_i = (payouts_i > 0).sum()\n",
        "    positives.append(positives_i)\n",
        "\n",
        "  inds = np.argsort(positives)\n",
        "  print('=== Epoch', x, '| Positives:', max(positives), '===')\n",
        "\n",
        "\n",
        "  best = proposals[inds[-B:]]\n",
        "  best_tile_aux = np.tile(best.T, int((N - B) / B)).T\n",
        "\n",
        "  p = schedule(x)\n",
        "\n",
        "  mutation = np.random.binomial(1, p, size = (N - B, 50))\n",
        "  mutation = (mutation == 1)\n",
        "\n",
        "  best_tile = np.bitwise_xor(mutation, best_tile_aux)\n",
        "  proposals = np.vstack((best, best_tile))"
      ],
      "metadata": {
        "colab": {
          "base_uri": "https://localhost:8080/"
        },
        "id": "y_fRhdEBEQn2",
        "outputId": "57dc213c-a89e-41a2-8a90-15c5bb10290f"
      },
      "execution_count": 128,
      "outputs": [
        {
          "output_type": "stream",
          "name": "stdout",
          "text": [
            "=== Epoch 0 | Positives: 104 ===\n",
            "=== Epoch 1 | Positives: 104 ===\n",
            "=== Epoch 2 | Positives: 108 ===\n",
            "=== Epoch 3 | Positives: 108 ===\n",
            "=== Epoch 4 | Positives: 108 ===\n",
            "=== Epoch 5 | Positives: 112 ===\n",
            "=== Epoch 6 | Positives: 112 ===\n",
            "=== Epoch 7 | Positives: 114 ===\n",
            "=== Epoch 8 | Positives: 115 ===\n",
            "=== Epoch 9 | Positives: 115 ===\n",
            "=== Epoch 10 | Positives: 120 ===\n",
            "=== Epoch 11 | Positives: 120 ===\n",
            "=== Epoch 12 | Positives: 120 ===\n",
            "=== Epoch 13 | Positives: 120 ===\n",
            "=== Epoch 14 | Positives: 120 ===\n",
            "=== Epoch 15 | Positives: 124 ===\n",
            "=== Epoch 16 | Positives: 124 ===\n",
            "=== Epoch 17 | Positives: 124 ===\n",
            "=== Epoch 18 | Positives: 124 ===\n",
            "=== Epoch 19 | Positives: 124 ===\n",
            "=== Epoch 20 | Positives: 124 ===\n",
            "=== Epoch 21 | Positives: 124 ===\n",
            "=== Epoch 22 | Positives: 124 ===\n",
            "=== Epoch 23 | Positives: 125 ===\n",
            "=== Epoch 24 | Positives: 125 ===\n",
            "=== Epoch 25 | Positives: 125 ===\n",
            "=== Epoch 26 | Positives: 125 ===\n",
            "=== Epoch 27 | Positives: 125 ===\n",
            "=== Epoch 28 | Positives: 125 ===\n",
            "=== Epoch 29 | Positives: 125 ===\n",
            "=== Epoch 30 | Positives: 125 ===\n",
            "=== Epoch 31 | Positives: 125 ===\n",
            "=== Epoch 32 | Positives: 125 ===\n",
            "=== Epoch 33 | Positives: 125 ===\n",
            "=== Epoch 34 | Positives: 128 ===\n",
            "=== Epoch 35 | Positives: 128 ===\n",
            "=== Epoch 36 | Positives: 128 ===\n",
            "=== Epoch 37 | Positives: 128 ===\n",
            "=== Epoch 38 | Positives: 130 ===\n",
            "=== Epoch 39 | Positives: 130 ===\n",
            "=== Epoch 40 | Positives: 136 ===\n",
            "=== Epoch 41 | Positives: 136 ===\n",
            "=== Epoch 42 | Positives: 136 ===\n",
            "=== Epoch 43 | Positives: 138 ===\n",
            "=== Epoch 44 | Positives: 138 ===\n",
            "=== Epoch 45 | Positives: 138 ===\n",
            "=== Epoch 46 | Positives: 138 ===\n",
            "=== Epoch 47 | Positives: 138 ===\n",
            "=== Epoch 48 | Positives: 141 ===\n",
            "=== Epoch 49 | Positives: 141 ===\n",
            "=== Epoch 50 | Positives: 141 ===\n",
            "=== Epoch 51 | Positives: 141 ===\n",
            "=== Epoch 52 | Positives: 141 ===\n",
            "=== Epoch 53 | Positives: 141 ===\n",
            "=== Epoch 54 | Positives: 141 ===\n",
            "=== Epoch 55 | Positives: 141 ===\n",
            "=== Epoch 56 | Positives: 141 ===\n",
            "=== Epoch 57 | Positives: 141 ===\n",
            "=== Epoch 58 | Positives: 141 ===\n",
            "=== Epoch 59 | Positives: 141 ===\n",
            "=== Epoch 60 | Positives: 141 ===\n",
            "=== Epoch 61 | Positives: 141 ===\n",
            "=== Epoch 62 | Positives: 147 ===\n",
            "=== Epoch 63 | Positives: 147 ===\n",
            "=== Epoch 64 | Positives: 147 ===\n",
            "=== Epoch 65 | Positives: 147 ===\n",
            "=== Epoch 66 | Positives: 156 ===\n",
            "=== Epoch 67 | Positives: 156 ===\n",
            "=== Epoch 68 | Positives: 156 ===\n",
            "=== Epoch 69 | Positives: 156 ===\n",
            "=== Epoch 70 | Positives: 158 ===\n",
            "=== Epoch 71 | Positives: 158 ===\n",
            "=== Epoch 72 | Positives: 158 ===\n",
            "=== Epoch 73 | Positives: 158 ===\n",
            "=== Epoch 74 | Positives: 165 ===\n",
            "=== Epoch 75 | Positives: 165 ===\n",
            "=== Epoch 76 | Positives: 172 ===\n",
            "=== Epoch 77 | Positives: 172 ===\n",
            "=== Epoch 78 | Positives: 172 ===\n",
            "=== Epoch 79 | Positives: 172 ===\n",
            "=== Epoch 80 | Positives: 172 ===\n",
            "=== Epoch 81 | Positives: 172 ===\n",
            "=== Epoch 82 | Positives: 172 ===\n",
            "=== Epoch 83 | Positives: 172 ===\n",
            "=== Epoch 84 | Positives: 172 ===\n",
            "=== Epoch 85 | Positives: 172 ===\n",
            "=== Epoch 86 | Positives: 172 ===\n",
            "=== Epoch 87 | Positives: 172 ===\n",
            "=== Epoch 88 | Positives: 172 ===\n",
            "=== Epoch 89 | Positives: 172 ===\n",
            "=== Epoch 90 | Positives: 172 ===\n",
            "=== Epoch 91 | Positives: 172 ===\n",
            "=== Epoch 92 | Positives: 172 ===\n",
            "=== Epoch 93 | Positives: 172 ===\n",
            "=== Epoch 94 | Positives: 172 ===\n",
            "=== Epoch 95 | Positives: 172 ===\n",
            "=== Epoch 96 | Positives: 172 ===\n",
            "=== Epoch 97 | Positives: 172 ===\n",
            "=== Epoch 98 | Positives: 172 ===\n",
            "=== Epoch 99 | Positives: 172 ===\n",
            "=== Epoch 100 | Positives: 172 ===\n",
            "=== Epoch 101 | Positives: 172 ===\n",
            "=== Epoch 102 | Positives: 172 ===\n",
            "=== Epoch 103 | Positives: 172 ===\n",
            "=== Epoch 104 | Positives: 172 ===\n",
            "=== Epoch 105 | Positives: 172 ===\n",
            "=== Epoch 106 | Positives: 172 ===\n",
            "=== Epoch 107 | Positives: 172 ===\n",
            "=== Epoch 108 | Positives: 172 ===\n",
            "=== Epoch 109 | Positives: 172 ===\n",
            "=== Epoch 110 | Positives: 172 ===\n",
            "=== Epoch 111 | Positives: 172 ===\n",
            "=== Epoch 112 | Positives: 172 ===\n",
            "=== Epoch 113 | Positives: 172 ===\n",
            "=== Epoch 114 | Positives: 172 ===\n",
            "=== Epoch 115 | Positives: 172 ===\n",
            "=== Epoch 116 | Positives: 172 ===\n",
            "=== Epoch 117 | Positives: 172 ===\n",
            "=== Epoch 118 | Positives: 172 ===\n",
            "=== Epoch 119 | Positives: 172 ===\n"
          ]
        }
      ]
    },
    {
      "cell_type": "code",
      "source": [
        "possibilities_str = [f'one({n})' for n in range(1, 7)]\n",
        "possibilities_str += [f'double({n})' for n in range(1, 7)]\n",
        "possibilities_str += [f'triple({n})' for n in range(1, 7)]\n",
        "possibilities_str += ['all_triples()', 'big()', 'small()']\n",
        "possibilities_str += [f'two({n}, {m})' for n in range(1, 7) for m in range(n + 1, 7)]\n",
        "possibilities_str += [f'sicbo_sum({i})' for i in range(4, 18)]\n",
        "\n",
        "possibilities_str = np.array(possibilities_str)\n",
        "\n",
        "possibilities_str[proposals[inds[-1]]]"
      ],
      "metadata": {
        "colab": {
          "base_uri": "https://localhost:8080/"
        },
        "id": "Rws7yR0HSOqG",
        "outputId": "de860839-4fe1-4a90-a853-be562076cc00"
      },
      "execution_count": 129,
      "outputs": [
        {
          "output_type": "execute_result",
          "data": {
            "text/plain": [
              "array(['one(1)', 'one(2)', 'one(3)', 'one(4)', 'one(5)', 'double(2)',\n",
              "       'double(3)', 'double(4)', 'double(5)', 'triple(2)', 'big()',\n",
              "       'small()', 'two(1, 2)', 'two(1, 3)', 'two(1, 4)', 'two(1, 5)',\n",
              "       'two(1, 6)', 'two(2, 3)', 'two(2, 4)', 'two(2, 5)', 'two(2, 6)',\n",
              "       'two(3, 4)', 'two(3, 5)', 'two(3, 6)', 'two(4, 5)', 'two(4, 6)',\n",
              "       'two(5, 6)'], dtype='<U13')"
            ]
          },
          "metadata": {},
          "execution_count": 129
        }
      ]
    },
    {
      "cell_type": "code",
      "source": [
        "possibilities[proposals[inds[-1]]].sum(axis = 0)"
      ],
      "metadata": {
        "colab": {
          "base_uri": "https://localhost:8080/"
        },
        "id": "p6WRRmQ5SOs5",
        "outputId": "1cd9ca01-d9cf-4ab2-e5ba-604b266d691f"
      },
      "execution_count": 130,
      "outputs": [
        {
          "output_type": "execute_result",
          "data": {
            "text/plain": [
              "array([-14., -13., -13., -13., -13., -15., -13.,   0.,   2.,   2.,   2.,\n",
              "         0., -13.,   2.,   0.,   2.,   2.,   0., -13.,   2.,   2.,   0.,\n",
              "         2.,   0., -13.,   2.,   2.,   2.,   0.,   0., -15.,   0.,   0.,\n",
              "         0.,   0., -16., -13.,   0.,   2.,   2.,   2.,   0.,   0., 192.,\n",
              "         0.,   0.,   0.,  -2.,   2.,   0.,   0.,   2.,   2.,   0.,   2.,\n",
              "         0.,   2.,   0.,   2.,   0.,   2.,   0.,   2.,   2.,   0.,   0.,\n",
              "         0.,  -2.,   0.,   0.,   0., -16., -13.,   2.,   0.,   2.,   2.,\n",
              "         0.,   2.,   0.,   0.,   2.,   2.,   0.,   0.,   0.,   1.,   0.,\n",
              "         0.,  -2.,   2.,   2.,   0.,   0.,   2.,   0.,   2.,   2.,   0.,\n",
              "         2.,   0.,   0.,   0.,   0.,  -2.,   0.,   0., -16., -13.,   2.,\n",
              "         2.,   0.,   2.,   0.,   2.,   0.,   2.,   0.,   2.,   0.,   2.,\n",
              "         2.,   0.,   0.,   2.,   0.,   0.,   0.,   0.,   1.,   0.,  -2.,\n",
              "         2.,   2.,   2.,   0.,   0.,   0.,   0.,   0.,   0.,  -2.,   0.,\n",
              "       -16., -13.,   2.,   2.,   2.,   0.,   0.,   2.,   0.,   2.,   2.,\n",
              "         0.,   0.,   2.,   2.,   0.,   2.,   0.,   0.,   2.,   2.,   2.,\n",
              "         0.,   0.,   0.,   0.,   0.,   0.,   0.,   1.,  -2.,   0.,   0.,\n",
              "         0.,   0.,  -2., -16., -15.,   0.,   0.,   0.,   0., -16.,   0.,\n",
              "        -2.,   0.,   0.,   0., -16.,   0.,   0.,  -2.,   0.,   0., -16.,\n",
              "         0.,   0.,   0.,  -2.,   0., -16.,   0.,   0.,   0.,   0.,  -2.,\n",
              "       -16., -16., -16., -16., -16., -16., -27.])"
            ]
          },
          "metadata": {},
          "execution_count": 130
        }
      ]
    },
    {
      "cell_type": "code",
      "source": [],
      "metadata": {
        "id": "sdCaz2zpSOug"
      },
      "execution_count": 103,
      "outputs": []
    },
    {
      "cell_type": "code",
      "source": [],
      "metadata": {
        "id": "aTgMbwqyEQwY"
      },
      "execution_count": 72,
      "outputs": []
    },
    {
      "cell_type": "code",
      "source": [],
      "metadata": {
        "id": "8gKuXqbKEQzR"
      },
      "execution_count": 72,
      "outputs": []
    },
    {
      "cell_type": "code",
      "source": [],
      "metadata": {
        "id": "ApgF1yT8EQ0a"
      },
      "execution_count": null,
      "outputs": []
    },
    {
      "cell_type": "code",
      "source": [],
      "metadata": {
        "id": "FUCMQQfVEQ2_"
      },
      "execution_count": null,
      "outputs": []
    },
    {
      "cell_type": "code",
      "source": [],
      "metadata": {
        "id": "Jx1YuX8TEQ66"
      },
      "execution_count": null,
      "outputs": []
    },
    {
      "cell_type": "code",
      "source": [],
      "metadata": {
        "id": "TMRgQLKb6mqs"
      },
      "execution_count": null,
      "outputs": []
    }
  ]
}